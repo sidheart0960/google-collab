{
  "nbformat": 4,
  "nbformat_minor": 0,
  "metadata": {
    "colab": {
      "name": "Untitled6.ipynb",
      "provenance": [],
      "collapsed_sections": [],
      "authorship_tag": "ABX9TyP+V0Rlk6xd4XbEE1w8+o5s",
      "include_colab_link": true
    },
    "kernelspec": {
      "name": "python3",
      "display_name": "Python 3"
    },
    "language_info": {
      "name": "python"
    }
  },
  "cells": [
    {
      "cell_type": "markdown",
      "metadata": {
        "id": "view-in-github",
        "colab_type": "text"
      },
      "source": [
        "<a href=\"https://colab.research.google.com/github/sidheart0960/google-collab/blob/main/1-15workshop.ipynb\" target=\"_parent\"><img src=\"https://colab.research.google.com/assets/colab-badge.svg\" alt=\"Open In Colab\"/></a>"
      ]
    },
    {
      "cell_type": "code",
      "execution_count": 5,
      "metadata": {
        "colab": {
          "base_uri": "https://localhost:8080/"
        },
        "id": "HVp4HuKkTeQ3",
        "outputId": "c0f5c008-2684-42fb-90a9-249cdc9a0ab8"
      },
      "outputs": [
        {
          "output_type": "stream",
          "name": "stdout",
          "text": [
            "5\n"
          ]
        }
      ],
      "source": [
        " #sum\n",
        " a=2\n",
        " b=3\n",
        " c=a+b\n",
        "print(c)"
      ]
    },
    {
      "cell_type": "code",
      "source": [
        "#remainder and quotient\n",
        "a=50\n",
        "b=45\n",
        "remainder=a/b\n",
        "qoutient=a//b\n",
        "print(remainder)\n",
        "print(qoutient)"
      ],
      "metadata": {
        "colab": {
          "base_uri": "https://localhost:8080/"
        },
        "id": "GssSkmiDVHRy",
        "outputId": "a8404486-f677-49d7-9673-bbab57a94146"
      },
      "execution_count": 10,
      "outputs": [
        {
          "output_type": "stream",
          "name": "stdout",
          "text": [
            "1.1111111111111112\n",
            "1\n"
          ]
        }
      ]
    },
    {
      "cell_type": "code",
      "source": [
        "#average\n",
        "a=5\n",
        "b=4\n",
        "c=7\n",
        "avg=a+b+c/3\n",
        "print(avg)"
      ],
      "metadata": {
        "colab": {
          "base_uri": "https://localhost:8080/"
        },
        "id": "Bs8LRSXhUxO8",
        "outputId": "7f205281-dead-4512-fa69-674546b0e802"
      },
      "execution_count": 12,
      "outputs": [
        {
          "output_type": "stream",
          "name": "stdout",
          "text": [
            "11.333333333333334\n"
          ]
        }
      ]
    },
    {
      "cell_type": "code",
      "source": [
        "#percentage\n",
        "a=80\n",
        "b=85\n",
        "c=84\n",
        "d=90\n",
        "e=86\n",
        "sum=a+b+c+d+e\n",
        "per=sum*100/500\n",
        "print(sum)\n",
        "print(per)"
      ],
      "metadata": {
        "colab": {
          "base_uri": "https://localhost:8080/"
        },
        "id": "4Tr6-ZLJZYXc",
        "outputId": "9ddc1ef6-7dd0-4a09-f96d-35d391f318b4"
      },
      "execution_count": 15,
      "outputs": [
        {
          "output_type": "stream",
          "name": "stdout",
          "text": [
            "425\n",
            "85.0\n"
          ]
        }
      ]
    },
    {
      "cell_type": "code",
      "source": [
        "#gross sallary\n",
        "sal=80000\n",
        "inc=10000\n",
        "pfo=5000\n",
        "grosssallary=sal+inc+pfo\n",
        "print(grosssallary)"
      ],
      "metadata": {
        "colab": {
          "base_uri": "https://localhost:8080/"
        },
        "id": "3nsb1UC8ay9K",
        "outputId": "301cc39a-d3a2-4964-ca81-6e3dc0e85e6f"
      },
      "execution_count": 17,
      "outputs": [
        {
          "output_type": "stream",
          "name": "stdout",
          "text": [
            "95000\n"
          ]
        }
      ]
    },
    {
      "cell_type": "code",
      "source": [
        "#radius of circle\n",
        "r=3\n",
        "area=3.14*r**2\n",
        "print(area)"
      ],
      "metadata": {
        "colab": {
          "base_uri": "https://localhost:8080/"
        },
        "id": "Suach1QCedIy",
        "outputId": "1a327800-e7ba-40fb-c08b-edfd5a9f0aed"
      },
      "execution_count": 18,
      "outputs": [
        {
          "output_type": "stream",
          "name": "stdout",
          "text": [
            "28.26\n"
          ]
        }
      ]
    },
    {
      "cell_type": "code",
      "source": [
        "#area of rectangle\n",
        "length=6\n",
        "width=4\n",
        "area=length*width\n",
        "print(area)"
      ],
      "metadata": {
        "colab": {
          "base_uri": "https://localhost:8080/"
        },
        "id": "13Wc86Zcfngd",
        "outputId": "ba5ced4d-6776-4356-9d7f-664a27f3429e"
      },
      "execution_count": 20,
      "outputs": [
        {
          "output_type": "stream",
          "name": "stdout",
          "text": [
            "24\n"
          ]
        }
      ]
    },
    {
      "cell_type": "code",
      "source": [
        "#area of square\n",
        "length=4\n",
        "area=length**2\n",
        "print(area)"
      ],
      "metadata": {
        "colab": {
          "base_uri": "https://localhost:8080/"
        },
        "id": "OMGS2Mpzgjhg",
        "outputId": "0d4f5f85-8c6c-4187-9519-677e29b8fb91"
      },
      "execution_count": 21,
      "outputs": [
        {
          "output_type": "stream",
          "name": "stdout",
          "text": [
            "16\n"
          ]
        }
      ]
    },
    {
      "cell_type": "code",
      "source": [
        "#area of circumference of the circle\n",
        "radius=5\n",
        "area=2*3.14*radius\n",
        "print(area)"
      ],
      "metadata": {
        "colab": {
          "base_uri": "https://localhost:8080/"
        },
        "id": "oJdnbw83hMrz",
        "outputId": "41793fe5-a421-4f47-95cf-722cf727f732"
      },
      "execution_count": 23,
      "outputs": [
        {
          "output_type": "stream",
          "name": "stdout",
          "text": [
            "31.400000000000002\n"
          ]
        }
      ]
    },
    {
      "cell_type": "code",
      "source": [
        "#area of scalene triangle\n",
        "base=5\n",
        "height=6\n",
        "area=base*height/2\n",
        "print(area)"
      ],
      "metadata": {
        "colab": {
          "base_uri": "https://localhost:8080/"
        },
        "id": "oZ29W7UbiI8G",
        "outputId": "b23c7fba-71d9-4b07-d74d-fb3623d4be1f"
      },
      "execution_count": 24,
      "outputs": [
        {
          "output_type": "stream",
          "name": "stdout",
          "text": [
            "15.0\n"
          ]
        }
      ]
    },
    {
      "cell_type": "code",
      "source": [
        "#area of rightangle tiangle\n",
        "a=5\n",
        "b=4\n",
        "area=a*b/2\n",
        "print(area)"
      ],
      "metadata": {
        "colab": {
          "base_uri": "https://localhost:8080/"
        },
        "id": "-YbMXU-xjM9n",
        "outputId": "466e642b-c6d8-4703-84af-e6529ba7bd5c"
      },
      "execution_count": 25,
      "outputs": [
        {
          "output_type": "stream",
          "name": "stdout",
          "text": [
            "10.0\n"
          ]
        }
      ]
    },
    {
      "cell_type": "code",
      "source": [
        "#area of trapezium\n",
        "a=2\n",
        "b=4\n",
        "h=6\n",
        "area=(a+b)/2*h\n",
        "print(area)"
      ],
      "metadata": {
        "colab": {
          "base_uri": "https://localhost:8080/"
        },
        "id": "1Hzv3y41j7lH",
        "outputId": "fd4ff60f-38d7-4c6f-9612-10606ba56f4a"
      },
      "execution_count": 27,
      "outputs": [
        {
          "output_type": "stream",
          "name": "stdout",
          "text": [
            "18.0\n"
          ]
        }
      ]
    },
    {
      "cell_type": "code",
      "source": [
        "#area of rhombus\n",
        "d1=4\n",
        "d2=6\n",
        "area=d1*d2/2\n",
        "print(area)"
      ],
      "metadata": {
        "colab": {
          "base_uri": "https://localhost:8080/"
        },
        "id": "EoWPZAXaqGKv",
        "outputId": "487f1b75-d22d-4d46-9c42-8214664aa977"
      },
      "execution_count": 29,
      "outputs": [
        {
          "output_type": "stream",
          "name": "stdout",
          "text": [
            "12.0\n"
          ]
        }
      ]
    },
    {
      "cell_type": "code",
      "source": [
        "#area of parallelogram\n",
        "a=4\n",
        "b=5\n",
        "area=a*b\n",
        "print(area)"
      ],
      "metadata": {
        "colab": {
          "base_uri": "https://localhost:8080/"
        },
        "id": "FmLdVYVUrNHd",
        "outputId": "bf05886c-2756-4817-dc16-2c87b2d3bf12"
      },
      "execution_count": 30,
      "outputs": [
        {
          "output_type": "stream",
          "name": "stdout",
          "text": [
            "20\n"
          ]
        }
      ]
    },
    {
      "cell_type": "code",
      "source": [
        "#valume and surface area cube\n",
        "a=5\n",
        "valume=a*a*a\n",
        "surfacearea=6*a*a\n",
        "print(valume)\n",
        "print(surfacearea)"
      ],
      "metadata": {
        "colab": {
          "base_uri": "https://localhost:8080/"
        },
        "id": "IKPa8JsvsM0F",
        "outputId": "4b999d71-6d77-46f8-c687-eca618627825"
      },
      "execution_count": 32,
      "outputs": [
        {
          "output_type": "stream",
          "name": "stdout",
          "text": [
            "125\n",
            "150\n"
          ]
        }
      ]
    },
    {
      "cell_type": "code",
      "source": [
        ""
      ],
      "metadata": {
        "id": "DaW8OvO0tlRc"
      },
      "execution_count": null,
      "outputs": []
    }
  ]
}