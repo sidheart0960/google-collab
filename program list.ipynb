{
  "nbformat": 4,
  "nbformat_minor": 0,
  "metadata": {
    "colab": {
      "name": "Untitled27.ipynb",
      "provenance": [],
      "collapsed_sections": [],
      "authorship_tag": "ABX9TyM//nY955UwIdE3mfKIxW0K",
      "include_colab_link": true
    },
    "kernelspec": {
      "name": "python3",
      "display_name": "Python 3"
    },
    "language_info": {
      "name": "python"
    }
  },
  "cells": [
    {
      "cell_type": "markdown",
      "metadata": {
        "id": "view-in-github",
        "colab_type": "text"
      },
      "source": [
        "<a href=\"https://colab.research.google.com/github/sidheart0960/google-collab/blob/main/program%20list.ipynb\" target=\"_parent\"><img src=\"https://colab.research.google.com/assets/colab-badge.svg\" alt=\"Open In Colab\"/></a>"
      ]
    },
    {
      "cell_type": "code",
      "execution_count": 12,
      "metadata": {
        "colab": {
          "base_uri": "https://localhost:8080/"
        },
        "id": "wj6NVAP0GfcQ",
        "outputId": "c66f2a24-6e4c-4484-cecf-108a915222c9"
      },
      "outputs": [
        {
          "output_type": "stream",
          "name": "stdout",
          "text": [
            "15\n"
          ]
        }
      ],
      "source": [
        "'''\n",
        "Create a Python class named Rectangle constructed by a length and width. \n",
        "a. Create a method called area which will compute the area of a rectangle. \n",
        "'''\n",
        "class Rectangle:\n",
        "  def __init__(self,length,width):\n",
        "    self.length=length\n",
        "    self.width=width\n",
        "  def area(self):\n",
        "    return( self.length * self.width)\n",
        "ob=Rectangle(5,3)\n",
        "p=ob.area()\n",
        "print(p)\n",
        "\n"
      ]
    },
    {
      "cell_type": "code",
      "source": [
        "'''Create a class called Numbers, which has a single class attribute called \n",
        "MULTIPLIER, and a constructor which takes the parameters x and y (these \n",
        "should all be numbers).'''\n",
        "class Number:\n",
        "  multiplier=int(input(\"enter multiplier\"))\n",
        "  def __init__ (self,x,y):\n",
        "    self.x=x\n",
        "    self.y=y\n",
        "  def add(self):\n",
        "    return self.x + self.y\n",
        "  @classmethod\n",
        "  def multiply(cls,a):\n",
        "    return cls.multiplier * a\n",
        "  @staticmethod\n",
        "  def subtract(b,c):\n",
        "     return b-c\n",
        "x=int(input(\"enter x \"))\n",
        "y=int(input(\"enter y \"))\n",
        "a=int(input(\"enter a \"))\n",
        "b=int(input(\"enter b \"))\n",
        "c=int(input(\"enter c  \"))\n",
        "ob=Number(x,y)\n",
        "print(ob.add())\n",
        "print(ob.multiply(a))\n",
        "print(ob.subtract(b,c))\n",
        "\n",
        "\n",
        "\n"
      ],
      "metadata": {
        "colab": {
          "base_uri": "https://localhost:8080/"
        },
        "id": "DsElqIVcJjqr",
        "outputId": "1fb82720-0a62-4950-9f4b-2ad2ffd061d0"
      },
      "execution_count": 24,
      "outputs": [
        {
          "output_type": "stream",
          "name": "stdout",
          "text": [
            "enter multiplier100\n",
            "enter x 50\n",
            "enter y 30\n",
            "enter a 100\n",
            "enter b 100\n",
            "enter c  50\n",
            "80\n",
            "10000\n",
            "50\n"
          ]
        }
      ]
    },
    {
      "cell_type": "code",
      "source": [
        ""
      ],
      "metadata": {
        "id": "WtHn2L0lTChv"
      },
      "execution_count": null,
      "outputs": []
    }
  ]
}