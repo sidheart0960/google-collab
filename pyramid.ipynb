{
  "nbformat": 4,
  "nbformat_minor": 0,
  "metadata": {
    "colab": {
      "name": "Untitled5.ipynb",
      "provenance": [],
      "collapsed_sections": [],
      "authorship_tag": "ABX9TyN4qLFR1aswkP0VW3HDJWb1",
      "include_colab_link": true
    },
    "kernelspec": {
      "name": "python3",
      "display_name": "Python 3"
    },
    "language_info": {
      "name": "python"
    }
  },
  "cells": [
    {
      "cell_type": "markdown",
      "metadata": {
        "id": "view-in-github",
        "colab_type": "text"
      },
      "source": [
        "<a href=\"https://colab.research.google.com/github/sidheart0960/google-collab/blob/main/pyramid.ipynb\" target=\"_parent\"><img src=\"https://colab.research.google.com/assets/colab-badge.svg\" alt=\"Open In Colab\"/></a>"
      ]
    },
    {
      "cell_type": "code",
      "execution_count": 8,
      "metadata": {
        "colab": {
          "base_uri": "https://localhost:8080/"
        },
        "id": "Mz7x6vSnw3Qa",
        "outputId": "b2c611ba-4a97-4498-a35f-0f5cf1b86b56"
      },
      "outputs": [
        {
          "output_type": "stream",
          "name": "stdout",
          "text": [
            "      * \n",
            "     * * \n",
            "    * * * \n",
            "   * * * * \n",
            "  * * * * * \n",
            " * * * * * * \n"
          ]
        }
      ],
      "source": [
        "n=5\n",
        "for i in range(0, 6):\n",
        "   for j in range(0, n-i+1):\n",
        "       print(end=\" \")\n",
        "   for j in range(0, i+1):\n",
        "        print(\"*\",end=\" \")\n",
        "   print()\n",
        "   i=i+1\n"
      ]
    },
    {
      "cell_type": "code",
      "source": [
        ""
      ],
      "metadata": {
        "id": "TNApNob30aQk"
      },
      "execution_count": null,
      "outputs": []
    },
    {
      "cell_type": "code",
      "source": [
        "n=5\n",
        "for i in range(6, 0, -1):\n",
        "   for j in range(0, n-i+1):\n",
        "       print(end=\" \")\n",
        "   for j in range(0, i+0):\n",
        "        print(\"*\",end=\" \")\n",
        "   print()\n",
        "   i=i+0\n"
      ],
      "metadata": {
        "colab": {
          "base_uri": "https://localhost:8080/"
        },
        "id": "fXMZB59Uz3-c",
        "outputId": "4fe7967c-5242-4503-9ba9-c17d3273a820"
      },
      "execution_count": 14,
      "outputs": [
        {
          "output_type": "stream",
          "name": "stdout",
          "text": [
            "* * * * * * \n",
            " * * * * * \n",
            "  * * * * \n",
            "   * * * \n",
            "    * * \n",
            "     * \n"
          ]
        }
      ]
    },
    {
      "cell_type": "code",
      "source": [
        "n=5\n",
        "for i in range(0, 6):\n",
        "   for j in range(0, n-i+1):\n",
        "       print(end=\" \")\n",
        "   for j in range(0, i+1):\n",
        "        print(\"*\",end=\" \")\n",
        "   print()\n",
        "   i=i+1\n",
        "n=5\n",
        "for i in range(6, 0,-1):\n",
        "   for j in range(0, n-i+1):\n",
        "       print(end=\" \")\n",
        "   for j in range(0, i+0):\n",
        "        print(\"*\",end=\" \")\n",
        "   print()\n",
        "   i=i+0"
      ],
      "metadata": {
        "colab": {
          "base_uri": "https://localhost:8080/"
        },
        "id": "U7cGEiqbzxIP",
        "outputId": "6783ca7b-5ce6-4edd-fb02-90ec366404d5"
      },
      "execution_count": 24,
      "outputs": [
        {
          "output_type": "stream",
          "name": "stdout",
          "text": [
            "      * \n",
            "     * * \n",
            "    * * * \n",
            "   * * * * \n",
            "  * * * * * \n",
            " * * * * * * \n",
            "* * * * * * \n",
            " * * * * * \n",
            "  * * * * \n",
            "   * * * \n",
            "    * * \n",
            "     * \n"
          ]
        }
      ]
    }
  ]
}